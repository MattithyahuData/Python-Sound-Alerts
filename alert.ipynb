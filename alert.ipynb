{
 "cells": [
  {
   "cell_type": "code",
   "execution_count": 21,
   "metadata": {},
   "outputs": [],
   "source": [
    "import winsound\n",
    "# duration is set to 100 milliseconds \n",
    "duration = 1000\n",
    "\n",
    "# frequency is set to 500Hz \n",
    "freq = 200\n",
    "winsound.Beep(freq, duration)"
   ]
  },
  {
   "cell_type": "markdown",
   "metadata": {},
   "source": [
    "## **Utilising Python alerts for Windows** "
   ]
  },
  {
   "cell_type": "markdown",
   "metadata": {},
   "source": [
    "Aim: ETC ETC TEC"
   ]
  },
  {
   "cell_type": "code",
   "execution_count": 1,
   "metadata": {},
   "outputs": [],
   "source": [
    "import winsound\n",
    "  \n",
    "freq = 100\n",
    "dur = 50\n",
    "  \n",
    "# loop iterates 5 times i.e, 5 beeps will be produced.\n",
    "for i in range(0, 10):    \n",
    "    winsound.Beep(freq, dur)    \n",
    "    freq+= 100\n",
    "    dur+= 150"
   ]
  },
  {
   "cell_type": "code",
   "execution_count": 12,
   "metadata": {},
   "outputs": [
    {
     "name": "stdout",
     "output_type": "stream",
     "text": [
      "Playing the file 'Welcome.wav'\n"
     ]
    }
   ],
   "source": [
    "import winsound\n",
    "  \n",
    "print(\"Playing the file 'Welcome.wav'\")\n",
    "  \n",
    "# winsound.PlaySound('filename', flag)\n",
    "winsound.PlaySound('Welcome.wav', winsound.SND_FILENAME) "
   ]
  },
  {
   "cell_type": "code",
   "execution_count": 14,
   "metadata": {},
   "outputs": [],
   "source": [
    "import winsound\n",
    "  \n",
    "  \n",
    "# Play Windows question sound\n",
    "winsound.PlaySound(\"SystemQuestion\", winsound.SND_ALIAS) "
   ]
  }
 ],
 "metadata": {
  "interpreter": {
   "hash": "743cc418bf85dc03c7a8b2e88c0c4a43aa5b803c26546c0935c684a5ec19e593"
  },
  "kernelspec": {
   "display_name": "Python 3.8.8 64-bit ('base': conda)",
   "language": "python",
   "name": "python3"
  },
  "language_info": {
   "codemirror_mode": {
    "name": "ipython",
    "version": 3
   },
   "file_extension": ".py",
   "mimetype": "text/x-python",
   "name": "python",
   "nbconvert_exporter": "python",
   "pygments_lexer": "ipython3",
   "version": "3.8.8"
  },
  "orig_nbformat": 4
 },
 "nbformat": 4,
 "nbformat_minor": 2
}
