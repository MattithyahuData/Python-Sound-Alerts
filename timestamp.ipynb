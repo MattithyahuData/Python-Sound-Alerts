{
 "cells": [
  {
   "cell_type": "markdown",
   "metadata": {},
   "source": [
    "### **Checking the time a file was created and last modified** "
   ]
  },
  {
   "cell_type": "code",
   "execution_count": null,
   "metadata": {},
   "outputs": [],
   "source": [
    "def timestamp(path):\n",
    "    import os\n",
    "    import time\n",
    "    print(\"Created: %s\" % time.ctime(os.path.getctime(path)))\n",
    "    print(\"Last modified: %s\" % time.ctime(os.path.getmtime(path)))\n",
    "   \n",
    "timestamp(\"[FILEPATH]\")"
   ]
  }
 ],
 "metadata": {
  "language_info": {
   "name": "python"
  },
  "orig_nbformat": 4
 },
 "nbformat": 4,
 "nbformat_minor": 2
}
