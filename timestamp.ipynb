{
 "cells": [
  {
   "cell_type": "code",
   "execution_count": null,
   "metadata": {},
   "outputs": [],
   "source": [
    "def timestamp(path):\n",
    "    import os\n",
    "    import time\n",
    "    print(\"Created: %s\" % time.ctime(os.path.getctime(path)))\n",
    "    print(\"Last modified: %s\" % time.ctime(os.path.getmtime(path)))\n",
    "   \n",
    "timestamp(\"P1 Code.ipynb\")"
   ]
  }
 ],
 "metadata": {
  "language_info": {
   "name": "python"
  },
  "orig_nbformat": 4
 },
 "nbformat": 4,
 "nbformat_minor": 2
}
